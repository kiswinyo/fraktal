import matplotlib.pyplot as plt
from random import randint
a=[0]
b=[0]
rand=0
#for i in range (1, 10):
#  b[0]=i**2
#  a=a+b

x0=[0, 1, 0.5]
y0=[0, 0, (2**0.5/2)]
x=[0]
y=[0]
for i in range (10000):
    rand=randint(0,2)
    a[0]=(a[0]+x0[rand])/2
    b[0]=(b[0]+y0[rand])/2
    
    x=x+a
    y=y+b

for i in range (0,10):
    print(x[i],y[i])
plt.plot(x, y, 'b,')
plt.xlabel('fraktál')
plt.show()
#############################
