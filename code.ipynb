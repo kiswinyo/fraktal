{
 "cells": [
  {
   "cell_type": "code",
   "execution_count": null,
   "metadata": {
    "collapsed": false
   },
   "outputs": [],
   "source": [
    "import matplotlib.pyplot as plt\n",
    "from random import randint\n",
    "a=[0]\n",
    "b=[0]\n",
    "rand=0\n",
    "#for i in range (1, 10):\n",
    "#  b[0]=i**2\n",
    "#  a=a+b\n",
    "\n",
    "x0=[0, 1, 0.5]\n",
    "y0=[0, 0, (2**0.5/2)]\n",
    "x=[0]\n",
    "y=[0]\n",
    "for i in range (10000):\n",
    "    rand=randint(0,2)\n",
    "    a[0]=(a[0]+x0[rand])/2\n",
    "    b[0]=(b[0]+y0[rand])/2\n",
    "    \n",
    "    x=x+a\n",
    "    y=y+b\n",
    "    \n",
    "plt.plot(x, y, 'b,')\n",
    "plt.xlabel('fraktál')\n",
    "plt.show()"
   ]
  },
  {
   "cell_type": "code",
   "execution_count": 2,
   "metadata": {
    "collapsed": false
   },
   "outputs": [
    {
     "name": "stdout",
     "output_type": "stream",
     "text": [
      "0 0\n",
      "0.25 0.3535533905932738\n",
      "0.375 0.5303300858899107\n",
      "0.6875 0.26516504294495535\n",
      "0.34375 0.13258252147247768\n",
      "0.171875 0.06629126073623884\n",
      "0.0859375 0.03314563036811942\n",
      "0.04296875 0.01657281518405971\n",
      "0.271484375 0.36183979818530365\n",
      "0.1357421875 0.18091989909265183\n"
     ]
    }
   ],
   "source": [
    "#python gyakorlás, órán tanult módszerrel frkatál rajzolása\n",
    "import matplotlib.pyplot as plt\n",
    "from random import randint\n",
    "a=[0]\n",
    "b=[0]\n",
    "rand=0\n",
    "#for i in range (1, 10):\n",
    "#  b[0]=i**2\n",
    "#  a=a+b\n",
    "\n",
    "x0=[0, 1, 0.5]\n",
    "y0=[0, 0, (2**0.5/2)]\n",
    "x=[0]\n",
    "y=[0]\n",
    "for i in range (10000):\n",
    "    rand=randint(0,2)\n",
    "    a[0]=(a[0]+x0[rand])/2\n",
    "    b[0]=(b[0]+y0[rand])/2\n",
    "    \n",
    "    x=x+a\n",
    "    y=y+b\n",
    "\n",
    "for i in range (0,10):\n",
    "    print(x[i],y[i])\n",
    "plt.plot(x, y, 'b,')\n",
    "plt.xlabel('fraktál')\n",
    "plt.show()\n",
    "#############################"
   ]
  },
  {
   "cell_type": "code",
   "execution_count": 4,
   "metadata": {
    "collapsed": false
   },
   "outputs": [
    {
     "name": "stdout",
     "output_type": "stream",
     "text": [
      "0.75\n"
     ]
    }
   ],
   "source": [
    "print(3/4)"
   ]
  },
  {
   "cell_type": "code",
   "execution_count": null,
   "metadata": {
    "collapsed": true
   },
   "outputs": [],
   "source": []
  }
 ],
 "metadata": {
  "kernelspec": {
   "display_name": "Python 3",
   "language": "python",
   "name": "python3"
  },
  "language_info": {
   "codemirror_mode": {
    "name": "ipython",
    "version": 3
   },
   "file_extension": ".py",
   "mimetype": "text/x-python",
   "name": "python",
   "nbconvert_exporter": "python",
   "pygments_lexer": "ipython3",
   "version": "3.4.3"
  }
 },
 "nbformat": 4,
 "nbformat_minor": 0
}
